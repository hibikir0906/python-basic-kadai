{
  "nbformat": 4,
  "nbformat_minor": 0,
  "metadata": {
    "colab": {
      "provenance": []
    },
    "kernelspec": {
      "name": "python3",
      "display_name": "Python 3"
    },
    "language_info": {
      "name": "python"
    }
  },
  "cells": [
    {
      "cell_type": "code",
      "execution_count": 1,
      "metadata": {
        "colab": {
          "base_uri": "https://localhost:8080/"
        },
        "id": "VJrxG205xzMy",
        "outputId": "710d4d88-74e8-4a24-b16f-0f0949f958de"
      },
      "outputs": [
        {
          "output_type": "stream",
          "name": "stdout",
          "text": [
            "121.0\n"
          ]
        }
      ],
      "source": [
        "# 消費税込みの金額を計算する関数の定義\n",
        "def calculate_total(price, tax_rate):\n",
        "    return price + (price * tax_rate / 100)\n",
        "\n",
        "# 関数の呼び出し（第1引数：商品金額110、第2引数：消費税率10）\n",
        "total_price = calculate_total(110, 10)\n",
        "\n",
        "# 結果の表示\n",
        "print(total_price)"
      ]
    }
  ]
}