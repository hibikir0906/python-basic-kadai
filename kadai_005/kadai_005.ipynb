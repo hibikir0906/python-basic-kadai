{
  "nbformat": 4,
  "nbformat_minor": 0,
  "metadata": {
    "colab": {
      "provenance": []
    },
    "kernelspec": {
      "name": "python3",
      "display_name": "Python 3"
    },
    "language_info": {
      "name": "python"
    }
  },
  "cells": [
    {
      "cell_type": "code",
      "execution_count": 3,
      "metadata": {
        "colab": {
          "base_uri": "https://localhost:8080/"
        },
        "id": "OFJV6vk5hjZ6",
        "outputId": "6b5d7ae2-d19d-4810-b5f6-af2ccc4af5bd"
      },
      "outputs": [
        {
          "output_type": "stream",
          "name": "stdout",
          "text": [
            "75.0cm²\n"
          ]
        }
      ],
      "source": [
        "# 台形の寸法（単位：cm）\n",
        "top = 10\n",
        "bottom = 20\n",
        "height = 5\n",
        "\n",
        "# 面積の計算\n",
        "area = (top + bottom) * height / 2\n",
        "\n",
        "# 結果の出力\n",
        "print(str(area) + \"cm²\")"
      ]
    }
  ]
}