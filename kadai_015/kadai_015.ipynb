{
  "nbformat": 4,
  "nbformat_minor": 0,
  "metadata": {
    "colab": {
      "provenance": []
    },
    "kernelspec": {
      "name": "python3",
      "display_name": "Python 3"
    },
    "language_info": {
      "name": "python"
    }
  },
  "cells": [
    {
      "cell_type": "code",
      "execution_count": 1,
      "metadata": {
        "colab": {
          "base_uri": "https://localhost:8080/"
        },
        "id": "BZGHErEg0Zfx",
        "outputId": "b26fa819-fecf-4125-f6cb-d8be6032c353"
      },
      "outputs": [
        {
          "output_type": "stream",
          "name": "stdout",
          "text": [
            "名前: 田中\n",
            "年齢: 30\n"
          ]
        }
      ],
      "source": [
        "# Humanクラスの定義\n",
        "class Human:\n",
        "    def __init__(self, name, age):\n",
        "        self.name = name\n",
        "        self.age = age\n",
        "\n",
        "    def printinfo(self):\n",
        "        print(\"名前:\", self.name)\n",
        "        print(\"年齢:\", self.age)\n",
        "\n",
        "# Humanクラスのインスタンスを作成し、変数に代入\n",
        "person = Human(\"田中\", 30)\n",
        "\n",
        "# printinfoメソッドを使用して情報を出力\n",
        "person.printinfo()"
      ]
    }
  ]
}