{
  "nbformat": 4,
  "nbformat_minor": 0,
  "metadata": {
    "colab": {
      "provenance": []
    },
    "kernelspec": {
      "name": "python3",
      "display_name": "Python 3"
    },
    "language_info": {
      "name": "python"
    }
  },
  "cells": [
    {
      "cell_type": "code",
      "execution_count": 1,
      "metadata": {
        "colab": {
          "base_uri": "https://localhost:8080/"
        },
        "id": "XQSQxT-hIyz-",
        "outputId": "a1773ef8-31aa-4c23-d010-64b3889df92f"
      },
      "outputs": [
        {
          "output_type": "stream",
          "name": "stdout",
          "text": [
            "田中 は大人です\n",
            "佐藤 は大人ではありません\n",
            "鈴木 は大人です\n",
            "山本 は大人ではありません\n"
          ]
        }
      ],
      "source": [
        "class Human:\n",
        "    def __init__(self, name, age):\n",
        "        self.name = name\n",
        "        self.age = age\n",
        "\n",
        "    def check_adult(self):\n",
        "        if self.age >= 20:\n",
        "            print(self.name + \" は大人です\")\n",
        "        else:\n",
        "            print(self.name + \" は大人ではありません\")\n",
        "\n",
        "# Humanインスタンスを複数作成し、リストに追加\n",
        "humans = [\n",
        "    Human(\"田中\", 25),\n",
        "    Human(\"佐藤\", 17),\n",
        "    Human(\"鈴木\", 30),\n",
        "    Human(\"山本\", 19)\n",
        "]\n",
        "\n",
        "# 各インスタンスに対して check_adult() を呼び出す\n",
        "for person in humans:\n",
        "    person.check_adult()"
      ]
    }
  ]
}